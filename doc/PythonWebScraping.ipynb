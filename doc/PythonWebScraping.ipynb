{
 "cells": [
  {
   "attachments": {},
   "cell_type": "markdown",
   "metadata": {},
   "source": [
    "# Beautifulsoup Library를 사용한 웹 크롤링\n",
    "* Anaconda (Python 3.6) 설치: Beautifulsoup Library는 Anaconda에 포함되어 배포됨\n",
    "* Python 이용 시에도 pip (python으로 작성된 package 설치/관리 시스템) 통해 다운 가능: pip install beautifulsoup4\n",
    "* 브라우저 개발자 모드(단축키: F12)를 이용하여 크롤링을 원하는 부분의 class 또는 id 명 확인 후 호출"
   ]
  },
  {
   "cell_type": "code",
   "execution_count": 6,
   "metadata": {},
   "outputs": [
    {
     "name": "stdout",
     "output_type": "stream",
     "text": [
      "Maeil Dairies' current stock price is 86,200won.\n"
     ]
    }
   ],
   "source": [
    "from bs4 import BeautifulSoup\n",
    "from urllib.request import urlopen\n",
    "\n",
    "html = urlopen('http://finance.naver.com/item/sise.nhn?code=267980')\n",
    "soup = BeautifulSoup(html, 'lxml')\n",
    "\n",
    "crawling = soup.find('strong',class_='tah p11').get_text()\n",
    "    \n",
    "print (\"Maeil Dairies' current stock price is \" + crawling + \"won.\")"
   ]
  }
 ],
 "metadata": {
  "kernelspec": {
   "display_name": "Python 3",
   "language": "python",
   "name": "python3"
  },
  "language_info": {
   "codemirror_mode": {
    "name": "ipython",
    "version": 3
   },
   "file_extension": ".py",
   "mimetype": "text/x-python",
   "name": "python",
   "nbconvert_exporter": "python",
   "pygments_lexer": "ipython3",
   "version": "3.6.4"
  }
 },
 "nbformat": 4,
 "nbformat_minor": 2
}
